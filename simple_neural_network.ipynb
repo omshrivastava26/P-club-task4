{
  "nbformat": 4,
  "nbformat_minor": 0,
  "metadata": {
    "colab": {
      "name": "simple neural network.ipynb",
      "provenance": [],
      "collapsed_sections": []
    },
    "kernelspec": {
      "name": "python3",
      "display_name": "Python 3"
    },
    "language_info": {
      "name": "python"
    }
  },
  "cells": [
    {
      "cell_type": "code",
      "source": [
        ""
      ],
      "metadata": {
        "id": "aGNsFJ8BjGrn"
      },
      "execution_count": null,
      "outputs": []
    },
    {
      "cell_type": "code",
      "execution_count": 13,
      "metadata": {
        "id": "iWJwL6j_bO94"
      },
      "outputs": [],
      "source": [
        "import numpy as np #tried to create simple neural network through maths(basically that sigma(wx+b) thing)\n"
      ]
    },
    {
      "cell_type": "code",
      "source": [
        "inputv=np.array([[1,1],[1,2],[0,0],[2,3]]) #input taken (any which we wish)\n",
        "inputv.shape\n",
        "inputv "
      ],
      "metadata": {
        "colab": {
          "base_uri": "https://localhost:8080/"
        },
        "id": "STAIcwIlbSho",
        "outputId": "37f38b76-7876-4427-a1ea-28b71a547cca"
      },
      "execution_count": 14,
      "outputs": [
        {
          "output_type": "execute_result",
          "data": {
            "text/plain": [
              "array([[1, 1],\n",
              "       [1, 2],\n",
              "       [0, 0],\n",
              "       [2, 3]])"
            ]
          },
          "metadata": {},
          "execution_count": 14
        }
      ]
    },
    {
      "cell_type": "code",
      "source": [
        "outputv=np.array([1,2,0,3])\n",
        "outputv=outputv.reshape(4,1) #reshaped from 1x4 to 4x1\n",
        "outputv.shape"
      ],
      "metadata": {
        "colab": {
          "base_uri": "https://localhost:8080/"
        },
        "id": "nOYGFYPVcF-d",
        "outputId": "17256b06-6256-4704-919e-2107aae2148b"
      },
      "execution_count": 15,
      "outputs": [
        {
          "output_type": "execute_result",
          "data": {
            "text/plain": [
              "(4, 1)"
            ]
          },
          "metadata": {},
          "execution_count": 15
        }
      ]
    },
    {
      "cell_type": "code",
      "source": [
        "weight=np.array([[1,0],[2,0]]) #take any random value \n",
        "weight"
      ],
      "metadata": {
        "colab": {
          "base_uri": "https://localhost:8080/"
        },
        "id": "hF68TytMcy6y",
        "outputId": "923c5915-06cb-44b7-b44b-e25a3b80c5cd"
      },
      "execution_count": 16,
      "outputs": [
        {
          "output_type": "execute_result",
          "data": {
            "text/plain": [
              "array([[1, 0],\n",
              "       [2, 0]])"
            ]
          },
          "metadata": {},
          "execution_count": 16
        }
      ]
    },
    {
      "cell_type": "code",
      "source": [
        "bias=0.3 #basically to add in z=wx+b"
      ],
      "metadata": {
        "id": "3iDvdQcudCQS"
      },
      "execution_count": 17,
      "outputs": []
    },
    {
      "cell_type": "code",
      "source": [
        "def sigmoidfunc(x): #i am using it as function\n",
        "  return 1/(1+np.exp(-x)) #sigmoid to change the linearity and bring value between o to 1"
      ],
      "metadata": {
        "id": "PsGG6cSFcae8"
      },
      "execution_count": 18,
      "outputs": []
    },
    {
      "cell_type": "code",
      "source": [
        "def deriv(x):\n",
        "  return sigmoidfunc(x) * (1-sigmoidfunc(x))"
      ],
      "metadata": {
        "id": "NNN31Fr-dcCx"
      },
      "execution_count": 19,
      "outputs": []
    },
    {
      "cell_type": "code",
      "source": [
        "for epochs in range(50): #for bringing the input through our neural network several time through forward propagation and backward propagation\n",
        "  arri=inputv\n",
        "weightedsum=np.dot(arri,weight)+bias\n",
        "output1=sigmoidfunc(weightedsum) # basically sigma(wx+b) vanishes non linearity as well bring in range 0 to 1\n",
        "\n",
        "error=output1-outputv\n",
        "errortotal=np.square(np.subtract(output1,outputv)).mean()  #loss function\n",
        "\n",
        "deriv1=error #basically writing this for backward propagation\n",
        "deriv2=deriv(output1)\n",
        "deriv3=deriv1*deriv2\n",
        "\n",
        "inputt=inputv.T\n",
        "derivf=np.dot(inputt,deriv3)\n",
        "\n",
        "weight=weight-0.05*derivf #it will update weight for next iteration\n",
        "\n",
        "#updating bias\n",
        "for i in deriv3:\n",
        "  bias=bias-0.05*i\n",
        "\n",
        "\n"
      ],
      "metadata": {
        "id": "pMIsvyG3dtmI"
      },
      "execution_count": 26,
      "outputs": []
    },
    {
      "cell_type": "code",
      "source": [
        "predict=np.array([1,5]) #i am testing following input\n",
        "result=np.dot(predict,weight)+bias #weight and bias are updated after epoch\n",
        "result=sigmoidfunc(result) #simply bringing function to be tested through sigma(wx+b) where x is input\n",
        "print(result)"
      ],
      "metadata": {
        "colab": {
          "base_uri": "https://localhost:8080/"
        },
        "id": "SMkxt35Tf1Fz",
        "outputId": "83e542cc-6add-4c71-a6e8-2a9bd72f8715"
      },
      "execution_count": 27,
      "outputs": [
        {
          "output_type": "stream",
          "name": "stdout",
          "text": [
            "[0.99999504 0.83918878]\n"
          ]
        }
      ]
    },
    {
      "cell_type": "code",
      "source": [
        ""
      ],
      "metadata": {
        "id": "zlP5VztAgK5F"
      },
      "execution_count": null,
      "outputs": []
    }
  ]
}